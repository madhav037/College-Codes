{
 "cells": [
  {
   "cell_type": "markdown",
   "metadata": {},
   "source": [
    "\n",
    "<a href='https://www.darshan.ac.in/'> <img src='https://www.darshan.ac.in/Content/media/DU_Logo.svg' width=\"250\" height=\"300\"/></a>\n",
    "<pre>\n",
    "<center><b><h1>Python Programming - 2101CS405</b></center>\n",
    "<center><b><h1>Lab - 5</b></center>    \n",
    "<pre>"
   ]
  },
  {
   "cell_type": "markdown",
   "metadata": {},
   "source": [
    "# list"
   ]
  },
  {
   "cell_type": "markdown",
   "metadata": {},
   "source": [
    "### 01) WAP to find sum of all the elements in List."
   ]
  },
  {
   "cell_type": "code",
   "execution_count": 4,
   "metadata": {},
   "outputs": [
    {
     "name": "stdout",
     "output_type": "stream",
     "text": [
      "45\n"
     ]
    }
   ],
   "source": [
    "l = [1,2,3,4,5,6,7,8,9]\n",
    "sum = 0\n",
    "for i in l:\n",
    "    sum += i\n",
    "print(sum)"
   ]
  },
  {
   "cell_type": "markdown",
   "metadata": {},
   "source": [
    "### 02) WAP to find largest element in a List."
   ]
  },
  {
   "cell_type": "code",
   "execution_count": 2,
   "metadata": {},
   "outputs": [
    {
     "name": "stdout",
     "output_type": "stream",
     "text": [
      "99\n"
     ]
    }
   ],
   "source": [
    "l = [1,3,4,7,4,67,2,78,22,99,67,11]\n",
    "largestElement = 0\n",
    "for i in l:\n",
    "    largestElement = max(i,largestElement)\n",
    "print(largestElement)"
   ]
  },
  {
   "cell_type": "markdown",
   "metadata": {},
   "source": [
    "### 03) WAP to split the List into two and append the first part to the end."
   ]
  },
  {
   "cell_type": "code",
   "execution_count": 9,
   "metadata": {},
   "outputs": [
    {
     "name": "stdout",
     "output_type": "stream",
     "text": [
      "[9, 1, 6, 64, 684, 474, 52, 54, 53, 1, 2, 3, 4, 4, 55, 6, 7, 88]\n"
     ]
    }
   ],
   "source": [
    "l = [1,2,3,4,4,55,6,7,88,9,1,6,64,684,474,52,54,53]\n",
    "l1 = l[0:int(len(l)/2)]\n",
    "l2 = l[int(len(l)/2):len(l)]\n",
    "\n",
    "l2.extend(l1)\n",
    "print(l2)"
   ]
  },
  {
   "cell_type": "markdown",
   "metadata": {},
   "source": [
    "### 04) WAP to interchange first and last elements in list entered by a user."
   ]
  },
  {
   "cell_type": "code",
   "execution_count": 13,
   "metadata": {},
   "outputs": [
    {
     "name": "stdout",
     "output_type": "stream",
     "text": [
      "Enter length of list : 5\n",
      "Enter value : 1\n",
      "Enter value : 2\n",
      "Enter value : 3\n",
      "Enter value : 4\n",
      "Enter value : 5\n",
      "[1, 2, 3, 4, 5]\n",
      "[5, 2, 3, 4, 1]\n"
     ]
    }
   ],
   "source": [
    "length = int(input(\"Enter length of list : \"))\n",
    "\n",
    "l = [int(input(\"Enter value : \")) for i in range(length)]\n",
    "print(l)\n",
    "l[0],l[-1] = l[-1],l[0]\n",
    "print(l)"
   ]
  },
  {
   "cell_type": "markdown",
   "metadata": {},
   "source": [
    "### 05) WAP to interchange the elements on two positions entered by a user."
   ]
  },
  {
   "cell_type": "code",
   "execution_count": 17,
   "metadata": {},
   "outputs": [
    {
     "name": "stdout",
     "output_type": "stream",
     "text": [
      "Enter length of list : 5\n",
      "Enter value : 1\n",
      "Enter value : 2\n",
      "Enter value : 3\n",
      "Enter value : 4\n",
      "Enter value : 5\n",
      "Enter position 1 : 2\n",
      "Enter position 2 : 5\n",
      "[1, 2, 3, 4, 5]\n",
      "[1, 5, 3, 4, 2]\n"
     ]
    }
   ],
   "source": [
    "length = int(input(\"Enter length of list : \"))\n",
    "\n",
    "l = [int(input(\"Enter value : \")) for i in range(length)]\n",
    "\n",
    "num1 = int(input(\"Enter position 1 : \")) -1\n",
    "num2 = int(input(\"Enter position 2 : \")) -1\n",
    "print(l)\n",
    "l[num1],l[num2] = l[num2],l[num1]\n",
    "print(l)"
   ]
  },
  {
   "cell_type": "markdown",
   "metadata": {},
   "source": [
    "### 06) WAP to reverses the list entered by user."
   ]
  },
  {
   "cell_type": "code",
   "execution_count": 18,
   "metadata": {},
   "outputs": [
    {
     "name": "stdout",
     "output_type": "stream",
     "text": [
      "Enter length of list : 5\n",
      "Enter value : 1\n",
      "Enter value : 2\n",
      "Enter value : 3\n",
      "Enter value : 4\n",
      "Enter value : 5\n",
      "[5, 4, 3, 2, 1]\n"
     ]
    }
   ],
   "source": [
    "length = int(input(\"Enter length of list : \"))\n",
    "\n",
    "l = [int(input(\"Enter value : \")) for i in range(length)]\n",
    "\n",
    "l = l[::-1]\n",
    "print(l)"
   ]
  },
  {
   "cell_type": "markdown",
   "metadata": {},
   "source": [
    "### 07) Python program to remove multiple elements from a list using list comprehension"
   ]
  },
  {
   "cell_type": "code",
   "execution_count": 19,
   "metadata": {},
   "outputs": [
    {
     "name": "stdout",
     "output_type": "stream",
     "text": [
      "[1, 3, 5, 6, 7, 9, 0, 1, 3, 5, 12, 1, 41, 541, 51, 51, 5, 15, 6758]\n"
     ]
    }
   ],
   "source": [
    "l = [1,2,3,4,5,6,7,8,9,0,1,2,3,4,5,11,12,1,41,541,51,51,5,15,6758]\n",
    "remove_elements = [2,4,8,11]\n",
    "l = [i  for i in l if i not in remove_elements]\n",
    "print(l)"
   ]
  },
  {
   "cell_type": "markdown",
   "metadata": {},
   "source": [
    "### 08) Create a list from the specified start to end index of another list."
   ]
  },
  {
   "cell_type": "code",
   "execution_count": 21,
   "metadata": {},
   "outputs": [
    {
     "name": "stdout",
     "output_type": "stream",
     "text": [
      "Enter length of list : 9\n",
      "Enter value : 1\n",
      "Enter value : 2\n",
      "Enter value : 3\n",
      "Enter value : 4\n",
      "Enter value : 5\n",
      "Enter value : 6\n",
      "Enter value : 78\n",
      "Enter value : 8\n",
      "Enter value : 9\n",
      "Enter start index : 2\n",
      "Enter end index : 8\n",
      "[3, 4, 5, 6, 78, 8, 9]\n"
     ]
    }
   ],
   "source": [
    "length = int(input(\"Enter length of list : \"))\n",
    "\n",
    "l = [int(input(\"Enter value : \")) for i in range(length)]\n",
    "\n",
    "start_index = int(input(\"Enter start index : \"))\n",
    "end_index = int(input(\"Enter end index : \"))\n",
    "\n",
    "new_list = []\n",
    "for i in range(start_index,end_index+1):\n",
    "    new_list.append(l[i])\n",
    "print(new_list)"
   ]
  },
  {
   "cell_type": "markdown",
   "metadata": {},
   "source": [
    "### 09) Input comma separated elements, convert into list and print."
   ]
  },
  {
   "cell_type": "code",
   "execution_count": 24,
   "metadata": {},
   "outputs": [
    {
     "name": "stdout",
     "output_type": "stream",
     "text": [
      "Enter elements : 1,2,3,4,5,6,7,8,9\n",
      "['1', '2', '3', '4', '5', '6', '7', '8', '9']\n"
     ]
    }
   ],
   "source": [
    "elements = input(\"Enter elements : \")\n",
    "l = elements.split(',')\n",
    "print(l)"
   ]
  },
  {
   "cell_type": "markdown",
   "metadata": {},
   "source": [
    "### 01) WAP to count Even and Odd numbers in a List."
   ]
  },
  {
   "cell_type": "code",
   "execution_count": 25,
   "metadata": {},
   "outputs": [
    {
     "name": "stdout",
     "output_type": "stream",
     "text": [
      "odd : 20\n",
      "even : 17\n"
     ]
    }
   ],
   "source": [
    "l = [1,2,3,4,5,6,7,8,9,10,11,12,13,141,51,16,16,54,36,3,42,52,525,25,25,25,25,2542,532525,425,534,36,36,5,654,45,45]\n",
    "even = 0\n",
    "odd = 0\n",
    "for i in l:\n",
    "    if i % 2 == 0:\n",
    "        even += 1\n",
    "    else:\n",
    "        odd += 1\n",
    "print(f\"odd : {odd}\\neven : {even}\")"
   ]
  },
  {
   "cell_type": "markdown",
   "metadata": {},
   "source": [
    "### 02) Python program to find N largest and smallest elements from the list"
   ]
  },
  {
   "cell_type": "code",
   "execution_count": 37,
   "metadata": {},
   "outputs": [
    {
     "name": "stdout",
     "output_type": "stream",
     "text": [
      "[1, 2, 3, 4, 5, 6, 7, 8, 9, 10, 11, 12, 13, 16, 25, 36, 36, 42, 45, 51, 52, 54, 141, 425, 525, 534, 654, 2542, 532525]\n",
      "Enter which largest : 2\n",
      "Enter which smallest : 3\n",
      "2542\n",
      "3\n"
     ]
    }
   ],
   "source": [
    "l = [1,2,4,5,6,7,8,9,10,11,12,13,141,51,16,54,36,3,42,52,525,25,2542,532525,425,534,36,654,45]\n",
    "l.sort()\n",
    "print(l)\n",
    "largest = int(input(\"Enter which largest : \")) * -1\n",
    "smallest = int(input(\"Enter which smallest : \")) -1\n",
    "\n",
    "print(l[largest])\n",
    "print(l[smallest])"
   ]
  },
  {
   "cell_type": "markdown",
   "metadata": {},
   "source": [
    "### 03) WAP to print duplicates from a list of integers"
   ]
  },
  {
   "cell_type": "code",
   "execution_count": 42,
   "metadata": {},
   "outputs": [
    {
     "name": "stdout",
     "output_type": "stream",
     "text": [
      "3\n",
      "5\n",
      "16\n",
      "36\n",
      "25\n",
      "45\n"
     ]
    }
   ],
   "source": [
    "l = [1,2,3,4,5,6,7,8,9,10,11,12,13,141,51,16,16,54,36,3,42,52,525,25,25,25,25,2542,532525,425,534,36,36,5,654,45,45]\n",
    "elements_repeated = []\n",
    "for i in l:\n",
    "    if l.count(i) > 1 and i not in elements_repeated:\n",
    "        print(i)\n",
    "        elements_repeated.append(i)"
   ]
  }
 ],
 "metadata": {
  "kernelspec": {
   "display_name": "Python 3 (ipykernel)",
   "language": "python",
   "name": "python3"
  },
  "language_info": {
   "codemirror_mode": {
    "name": "ipython",
    "version": 3
   },
   "file_extension": ".py",
   "mimetype": "text/x-python",
   "name": "python",
   "nbconvert_exporter": "python",
   "pygments_lexer": "ipython3",
   "version": "3.11.5"
  }
 },
 "nbformat": 4,
 "nbformat_minor": 4
}
