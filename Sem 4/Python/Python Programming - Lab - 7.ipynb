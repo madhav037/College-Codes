{
 "cells": [
  {
   "cell_type": "markdown",
   "metadata": {},
   "source": [
    "<a href='https://www.darshan.ac.in/'> <img src='https://www.darshan.ac.in/Content/media/DU_Logo.svg' width=\"250\" height=\"300\"/></a>\n",
    "<pre>\n",
    "<center><b><h1>Python Programming - 2101CS405</b></center>\n",
    "<center><b><h1>Lab - 7</b></center>    \n",
    "<pre>"
   ]
  },
  {
   "cell_type": "markdown",
   "metadata": {},
   "source": [
    "# Functions"
   ]
  },
  {
   "cell_type": "markdown",
   "metadata": {},
   "source": [
    "### 01) WAP to count simple interest using function."
   ]
  },
  {
   "cell_type": "code",
   "execution_count": 1,
   "metadata": {},
   "outputs": [
    {
     "name": "stdout",
     "output_type": "stream",
     "text": [
      "10.0\n"
     ]
    }
   ],
   "source": [
    "def simpleIntrest (p,r,t) :\n",
    "    return p*r*t/100\n",
    "\n",
    "si = simpleIntrest(10,10,10)\n",
    "print(si)"
   ]
  },
  {
   "cell_type": "markdown",
   "metadata": {},
   "source": [
    "### 02) WAP that defines a function to add first n numbers."
   ]
  },
  {
   "cell_type": "code",
   "execution_count": 3,
   "metadata": {},
   "outputs": [
    {
     "name": "stdout",
     "output_type": "stream",
     "text": [
      "55\n"
     ]
    }
   ],
   "source": [
    "def addNNumbers (n) :\n",
    "    add = 0\n",
    "    for i in range(n+1):\n",
    "        add += i\n",
    "    return add\n",
    "print(addNNumbers(10))"
   ]
  },
  {
   "cell_type": "markdown",
   "metadata": {},
   "source": [
    "### 03) WAP to find maximum number from given two numbers using function."
   ]
  },
  {
   "cell_type": "code",
   "execution_count": 4,
   "metadata": {},
   "outputs": [
    {
     "name": "stdout",
     "output_type": "stream",
     "text": [
      "6\n"
     ]
    }
   ],
   "source": [
    "def maxNum (a,b) :\n",
    "    if a > b:\n",
    "        return a\n",
    "    return b\n",
    "\n",
    "m = maxNum(5,6)\n",
    "print(m)"
   ]
  },
  {
   "cell_type": "markdown",
   "metadata": {},
   "source": [
    "### 04) WAP that defines a function which returns 1 if the number is prime otherwise return 0."
   ]
  },
  {
   "cell_type": "code",
   "execution_count": 7,
   "metadata": {},
   "outputs": [
    {
     "name": "stdout",
     "output_type": "stream",
     "text": [
      "1\n"
     ]
    }
   ],
   "source": [
    "def primeOrNot (num):\n",
    "    for i in range(2,num):\n",
    "        if num % i == 0:\n",
    "            return 0\n",
    "    return 1\n",
    "\n",
    "print(primeOrNot(7))"
   ]
  },
  {
   "cell_type": "markdown",
   "metadata": {},
   "source": [
    "### 05) Write a function called primes that takes an integer value as an argument and returns a list of all prime numbers up to that number."
   ]
  },
  {
   "cell_type": "code",
   "execution_count": 10,
   "metadata": {},
   "outputs": [
    {
     "name": "stdout",
     "output_type": "stream",
     "text": [
      "1\n",
      "2\n",
      "3\n",
      "5\n",
      "7\n",
      "11\n",
      "13\n",
      "17\n",
      "19\n"
     ]
    }
   ],
   "source": [
    "def primes (a):\n",
    "    for i in range(1,a+1):\n",
    "        for j in range(2,i):\n",
    "            if i % j == 0:\n",
    "                break\n",
    "        else:\n",
    "            print(i)\n",
    "\n",
    "primes(20)"
   ]
  },
  {
   "cell_type": "markdown",
   "metadata": {},
   "source": [
    "### 06) WAP to generate Fibonacci series of N given number using function name fibbo. (e.g. 0 1 1 2 3 5 8...)"
   ]
  },
  {
   "cell_type": "code",
   "execution_count": 11,
   "metadata": {},
   "outputs": [
    {
     "name": "stdout",
     "output_type": "stream",
     "text": [
      "0\n",
      "1\n",
      "1\n",
      "2\n",
      "3\n",
      "5\n",
      "8\n"
     ]
    }
   ],
   "source": [
    "def fibbo (n) :\n",
    "    i = 0\n",
    "    l = 1\n",
    "    sl = 0\n",
    "    print(0)\n",
    "    while i <= n:\n",
    "        tl = l + sl\n",
    "        l = sl\n",
    "        sl = tl\n",
    "        print(tl)\n",
    "        i += 1\n",
    "fibbo(5)"
   ]
  },
  {
   "cell_type": "markdown",
   "metadata": {},
   "source": [
    "### 07) WAP to find the factorial of a given number using recursion."
   ]
  },
  {
   "cell_type": "code",
   "execution_count": 28,
   "metadata": {},
   "outputs": [
    {
     "name": "stdout",
     "output_type": "stream",
     "text": [
      "120\n"
     ]
    }
   ],
   "source": [
    "def factorial (n):\n",
    "    if n == 0:\n",
    "        return 1\n",
    "    else:\n",
    "        return n * factorial(n-1)\n",
    "    \n",
    "print(factorial(5))"
   ]
  },
  {
   "cell_type": "markdown",
   "metadata": {},
   "source": [
    "### 08) WAP to implement simple calculator using lamda function."
   ]
  },
  {
   "cell_type": "code",
   "execution_count": 23,
   "metadata": {},
   "outputs": [
    {
     "name": "stdout",
     "output_type": "stream",
     "text": [
      "Num1 : 1\n",
      "Num2 : 2\n",
      "sign : +\n",
      "3\n"
     ]
    }
   ],
   "source": [
    "add = lambda num1, num2 : num1+num2\n",
    "sub = lambda num1, num2 : num1-num2\n",
    "multi = lambda num1, num2 : num1*num2\n",
    "sub = lambda num1, num2 : num1/num2\n",
    "\n",
    "num1 = int(input(\"Num1 : \"))\n",
    "num2 = int(input(\"Num2 : \"))\n",
    "sign = input(\"sign : \")\n",
    "\n",
    "match sign:\n",
    "    case '+':\n",
    "        print(add(num1,num2))\n",
    "    case '-':\n",
    "        print(sub(num1,num2))\n",
    "    case '*':\n",
    "        print(multi(num1,num2))\n",
    "    case '/':\n",
    "        print(div(num1,num2))\n",
    "    case _:\n",
    "        print(\"noooo\")\n",
    "        \n",
    "\n",
    "# print(calc(2,3,'+'))"
   ]
  },
  {
   "cell_type": "markdown",
   "metadata": {},
   "source": [
    "### 09)Write a Python program that accepts a hyphen-separated sequence of words as input and prints the words in a hyphen-separated sequence after sorting them alphabetically\n",
    "Sample Items : green-red-yellow-black-white <br>\n",
    "Expected Result : black-green-red-white-yellow"
   ]
  },
  {
   "cell_type": "code",
   "execution_count": 33,
   "metadata": {},
   "outputs": [
    {
     "name": "stdout",
     "output_type": "stream",
     "text": [
      "Enter seqgreen-red-yellow-black-white\n",
      "black-green-red-white-yellow\n"
     ]
    }
   ],
   "source": [
    "seq = input(\"Enter seq\")\n",
    "seql = seq.split(\"-\")\n",
    "seql.sort()\n",
    "seql = (\"-\").join(seql)\n",
    "print(seql)"
   ]
  },
  {
   "cell_type": "markdown",
   "metadata": {},
   "source": [
    "### 10) Write a python program to implement all function arguments type\n",
    "Positional arguments <Br>\n",
    "Default argument <Br>\n",
    "Keyword arguments (named arguments) <Br>\n",
    "Arbitrary arguments (variable-length arguments args and kwargs)"
   ]
  },
  {
   "cell_type": "code",
   "execution_count": 34,
   "metadata": {},
   "outputs": [
    {
     "name": "stdout",
     "output_type": "stream",
     "text": [
      "4 5\n"
     ]
    }
   ],
   "source": [
    "def positional(a,b):\n",
    "    print(a,b)\n",
    "positional(4,5)"
   ]
  },
  {
   "cell_type": "code",
   "execution_count": 35,
   "metadata": {},
   "outputs": [
    {
     "name": "stdout",
     "output_type": "stream",
     "text": [
      "4 5\n"
     ]
    }
   ],
   "source": [
    "def default(a,b=5):\n",
    "    print(a,b)\n",
    "default(4)"
   ]
  },
  {
   "cell_type": "code",
   "execution_count": 36,
   "metadata": {},
   "outputs": [
    {
     "name": "stdout",
     "output_type": "stream",
     "text": [
      "5 4\n"
     ]
    }
   ],
   "source": [
    "def keyword(a,b):\n",
    "    print(a,b)\n",
    "keyword(b=4,a=5)"
   ]
  },
  {
   "cell_type": "code",
   "execution_count": 37,
   "metadata": {},
   "outputs": [
    {
     "name": "stdout",
     "output_type": "stream",
     "text": [
      "(1, 2, 3, 4, 5, 6, 7)\n"
     ]
    }
   ],
   "source": [
    "def arbitary(*n):\n",
    "    print(n)\n",
    "arbitary(1,2,3,4,5,6,7)"
   ]
  },
  {
   "cell_type": "code",
   "execution_count": 38,
   "metadata": {},
   "outputs": [
    {
     "name": "stdout",
     "output_type": "stream",
     "text": [
      "{'a': 1, 'b': 2, 'c': 3}\n"
     ]
    }
   ],
   "source": [
    "def arbitaryy(**n):\n",
    "    print(n)\n",
    "arbitaryy(a=1,b=2,c=3)"
   ]
  },
  {
   "cell_type": "markdown",
   "metadata": {},
   "source": [
    "### 01) WAP to calculate power of a number using recursion."
   ]
  },
  {
   "cell_type": "code",
   "execution_count": 41,
   "metadata": {},
   "outputs": [
    {
     "data": {
      "text/plain": [
       "32"
      ]
     },
     "execution_count": 41,
     "metadata": {},
     "output_type": "execute_result"
    }
   ],
   "source": [
    "def powerOfNum(base,power):\n",
    "    if power == 0:\n",
    "        return 1\n",
    "    else:\n",
    "        power -=1\n",
    "        return base * powerOfNum(base,power)\n",
    "powerOfNum(2,5)"
   ]
  },
  {
   "cell_type": "markdown",
   "metadata": {},
   "source": [
    "### 02) WAP to count digits of a number using recursion."
   ]
  },
  {
   "cell_type": "code",
   "execution_count": 73,
   "metadata": {},
   "outputs": [
    {
     "name": "stdout",
     "output_type": "stream",
     "text": [
      "3\n"
     ]
    }
   ],
   "source": [
    "def countDigitOfNumber(num):\n",
    "    if num < 10:\n",
    "        return 1\n",
    "    else:\n",
    "        return 1 + countDigitOfNumber(int(num/10))\n",
    "print(countDigitOfNumber(235))"
   ]
  },
  {
   "cell_type": "markdown",
   "metadata": {},
   "source": [
    "### 03) WAP to reverse an integer number using recursion."
   ]
  },
  {
   "cell_type": "code",
   "execution_count": 84,
   "metadata": {},
   "outputs": [
    {
     "name": "stdout",
     "output_type": "stream",
     "text": [
      "554\n"
     ]
    }
   ],
   "source": [
    "digit=0\n",
    "def revNum(num):\n",
    "    global digit\n",
    "    if num <= 0:\n",
    "        return 0\n",
    "    else:\n",
    "        d = num % 10\n",
    "        digit = digit*10 + d\n",
    "        return revNum(int(num/10))\n",
    "revNum(455)\n",
    "print(digit)"
   ]
  },
  {
   "cell_type": "markdown",
   "metadata": {},
   "source": [
    "### 04) WAP to convert decimal number into binary using recursion."
   ]
  },
  {
   "cell_type": "code",
   "execution_count": 98,
   "metadata": {},
   "outputs": [
    {
     "data": {
      "text/plain": [
       "1010"
      ]
     },
     "execution_count": 98,
     "metadata": {},
     "output_type": "execute_result"
    }
   ],
   "source": [
    "def deciTobin(n) :\n",
    "    if n == 0:\n",
    "        return 0\n",
    "    else:\n",
    "        return n % 2 + 10 * (deciTobin(int(n/2)))\n",
    "deciTobin(10)"
   ]
  }
 ],
 "metadata": {
  "kernelspec": {
   "display_name": "Python 3 (ipykernel)",
   "language": "python",
   "name": "python3"
  },
  "language_info": {
   "codemirror_mode": {
    "name": "ipython",
    "version": 3
   },
   "file_extension": ".py",
   "mimetype": "text/x-python",
   "name": "python",
   "nbconvert_exporter": "python",
   "pygments_lexer": "ipython3",
   "version": "3.11.5"
  }
 },
 "nbformat": 4,
 "nbformat_minor": 4
}
