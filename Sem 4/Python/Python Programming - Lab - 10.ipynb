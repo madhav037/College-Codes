{
 "cells": [
  {
   "cell_type": "markdown",
   "metadata": {},
   "source": [
    "<a href='https://www.darshan.ac.in/'> <img src='https://www.darshan.ac.in/Content/media/DU_Logo.svg' width=\"250\" height=\"300\"/></a>\n",
    "<pre>\n",
    "<center><b><h1>Python Programming - 2101CS405</b></center>\n",
    "<center><b><h1>Lab - 10</b></center>    \n",
    "<pre>"
   ]
  },
  {
   "cell_type": "markdown",
   "metadata": {},
   "source": [
    "# Modules"
   ]
  },
  {
   "cell_type": "markdown",
   "metadata": {},
   "source": [
    "# A"
   ]
  },
  {
   "cell_type": "markdown",
   "metadata": {},
   "source": [
    "### 01) WAP to create Calculator module which defines functions like add, sub,mul and div. create another file that uses the Calculator module."
   ]
  },
  {
   "cell_type": "code",
   "execution_count": 1,
   "metadata": {},
   "outputs": [
    {
     "name": "stdout",
     "output_type": "stream",
     "text": [
      "7 -1 30 0.8571428571428571\n"
     ]
    }
   ],
   "source": [
    "import calc as c\n",
    "add = c.add(3,4)\n",
    "sub = c.sub(4,5)\n",
    "multi = c.multi(5,6)\n",
    "div = c.div(6,7)\n",
    "print(add, sub, multi, div)"
   ]
  },
  {
   "cell_type": "markdown",
   "metadata": {},
   "source": [
    "### 02) WAP to Pick a random character from a given String."
   ]
  },
  {
   "cell_type": "code",
   "execution_count": 61,
   "metadata": {},
   "outputs": [
    {
     "name": "stdout",
     "output_type": "stream",
     "text": [
      "l\n"
     ]
    }
   ],
   "source": [
    "import random\n",
    "str1 = \"hello_this_is_a_random_string\"\n",
    "print(str1[random.randint(0,len(str1)-1)])"
   ]
  },
  {
   "cell_type": "markdown",
   "metadata": {},
   "source": [
    "### 03) WAP to Pick a random element from a given list."
   ]
  },
  {
   "cell_type": "code",
   "execution_count": 20,
   "metadata": {},
   "outputs": [
    {
     "name": "stdout",
     "output_type": "stream",
     "text": [
      "['s', 't']\n"
     ]
    }
   ],
   "source": [
    "import random\n",
    "l = [1,2,3,4,8,\"hello\",True,'d',[\"s\",\"t\"],5,6,7]\n",
    "print(l[random.randint(0,len(l)-1)])"
   ]
  },
  {
   "cell_type": "markdown",
   "metadata": {},
   "source": [
    "### 04) WAP to demonstrate the use of the math module."
   ]
  },
  {
   "cell_type": "code",
   "execution_count": 65,
   "metadata": {},
   "outputs": [
    {
     "name": "stdout",
     "output_type": "stream",
     "text": [
      "5\n",
      "120\n",
      "20\n",
      "0.8509035245341184\n",
      "3.141592653589793\n"
     ]
    }
   ],
   "source": [
    "import math as m\n",
    "print(m.ceil(4.6))\n",
    "print(m.factorial(5))\n",
    "print(m.lcm(4,5))\n",
    "print(m.sin(45))\n",
    "print(m.pi)"
   ]
  },
  {
   "cell_type": "markdown",
   "metadata": {},
   "source": [
    "### 05) WAP to demonstrate the use of date time module."
   ]
  },
  {
   "cell_type": "code",
   "execution_count": 190,
   "metadata": {},
   "outputs": [
    {
     "name": "stdout",
     "output_type": "stream",
     "text": [
      "2024-03-12 00:00:00\n",
      "1710181800.0\n",
      "2024-02-21 10:30:19.335670\n",
      "21\n",
      "2\n",
      "2024\n"
     ]
    }
   ],
   "source": [
    "import datetime as dt\n",
    "a = dt.datetime(2024,3,12)\n",
    "b = dt.datetime.timestamp(a)\n",
    "print(a)\n",
    "print(b)\n",
    "c = dt.datetime.now()\n",
    "print(c)\n",
    "print(c.day)\n",
    "print(c.month)\n",
    "print(c.year)"
   ]
  },
  {
   "cell_type": "markdown",
   "metadata": {},
   "source": [
    "# B"
   ]
  },
  {
   "cell_type": "markdown",
   "metadata": {},
   "source": [
    "### 01) WAP to Roll dice in such a way that every time you get the same number."
   ]
  },
  {
   "cell_type": "code",
   "execution_count": 120,
   "metadata": {},
   "outputs": [
    {
     "name": "stdout",
     "output_type": "stream",
     "text": [
      "2\n"
     ]
    }
   ],
   "source": [
    "import random as r\n",
    "l = [1,2,3,4,5,6]\n",
    "r.seed(3)\n",
    "print(r.choice(l))"
   ]
  },
  {
   "cell_type": "markdown",
   "metadata": {},
   "source": [
    "### 02) WAP to generate 3 random integers between 100 and 999 which is divisible by 5."
   ]
  },
  {
   "cell_type": "code",
   "execution_count": 179,
   "metadata": {},
   "outputs": [
    {
     "name": "stdout",
     "output_type": "stream",
     "text": [
      "920\n",
      "555\n",
      "375\n"
     ]
    }
   ],
   "source": [
    "import random as r\n",
    "l = 0\n",
    "while l < 3:\n",
    "    a = r.randint(100,999)\n",
    "    if a % 5 == 0:\n",
    "        print(a)\n",
    "        l+=1\n",
    "    "
   ]
  },
  {
   "cell_type": "markdown",
   "metadata": {},
   "source": [
    "### 03) WAP to generate 100 random lottery tickets and pick two lucky tickets from it as a winner."
   ]
  },
  {
   "cell_type": "code",
   "execution_count": 187,
   "metadata": {},
   "outputs": [
    {
     "name": "stdout",
     "output_type": "stream",
     "text": [
      "winners are  61 338\n"
     ]
    }
   ],
   "source": [
    "import random as r\n",
    "l = [r.randint(1,500) for i in range(101)]\n",
    "c1 = r.choice(l)\n",
    "c2 = r.choice(l)\n",
    "print(\"winners are \",c1,c2)"
   ]
  },
  {
   "cell_type": "markdown",
   "metadata": {},
   "source": [
    "### 04) WAP to print current date and time in Python."
   ]
  },
  {
   "cell_type": "code",
   "execution_count": 193,
   "metadata": {},
   "outputs": [
    {
     "name": "stdout",
     "output_type": "stream",
     "text": [
      "2024-02-21\n",
      "10:33:54.496047\n"
     ]
    }
   ],
   "source": [
    "import datetime as dt\n",
    "a = dt.datetime.now()\n",
    "print(a.date())\n",
    "print(a.time())\n"
   ]
  },
  {
   "cell_type": "markdown",
   "metadata": {},
   "source": [
    "### 05) Subtract a week (7 days) from a given date in Python."
   ]
  },
  {
   "cell_type": "code",
   "execution_count": 198,
   "metadata": {},
   "outputs": [
    {
     "name": "stdout",
     "output_type": "stream",
     "text": [
      "current date =  2024-02-21\n",
      "seven days before date =  2024-02-14\n"
     ]
    }
   ],
   "source": [
    "import datetime as dt\n",
    "\n",
    "d = dt.date.today()\n",
    "print(\"current date = \",d)\n",
    "print(\"seven days before date = \",d - dt.timedelta(7))"
   ]
  },
  {
   "cell_type": "markdown",
   "metadata": {},
   "source": [
    "### 06) WAP to Calculate number of days between two given dates."
   ]
  },
  {
   "cell_type": "code",
   "execution_count": 199,
   "metadata": {},
   "outputs": [
    {
     "name": "stdout",
     "output_type": "stream",
     "text": [
      "d1 =  2024-04-23 00:00:00\n",
      "d2 =  2022-06-14 00:00:00\n",
      "difference =  679 days, 0:00:00\n"
     ]
    }
   ],
   "source": [
    "import datetime as dt\n",
    "a = dt.datetime(2024,4,23)\n",
    "b = dt.datetime(2022,6,14)\n",
    "print(\"d1 = \",a)\n",
    "print(\"d2 = \",b)\n",
    "print(\"difference = \", a.date() - b.date())"
   ]
  },
  {
   "cell_type": "markdown",
   "metadata": {},
   "source": [
    "### 07) WAP to Find the day of the week of a given date."
   ]
  },
  {
   "cell_type": "code",
   "execution_count": 205,
   "metadata": {},
   "outputs": [
    {
     "name": "stdout",
     "output_type": "stream",
     "text": [
      "Monday\n"
     ]
    }
   ],
   "source": [
    "import datetime as dt\n",
    "a = dt.datetime(2016,2,29)\n",
    "print(a.strftime(\"%A\"))"
   ]
  }
 ],
 "metadata": {
  "kernelspec": {
   "display_name": "Python 3 (ipykernel)",
   "language": "python",
   "name": "python3"
  },
  "language_info": {
   "codemirror_mode": {
    "name": "ipython",
    "version": 3
   },
   "file_extension": ".py",
   "mimetype": "text/x-python",
   "name": "python",
   "nbconvert_exporter": "python",
   "pygments_lexer": "ipython3",
   "version": "3.11.5"
  }
 },
 "nbformat": 4,
 "nbformat_minor": 4
}
