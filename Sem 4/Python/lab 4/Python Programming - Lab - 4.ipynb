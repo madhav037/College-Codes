{
 "cells": [
  {
   "cell_type": "markdown",
   "metadata": {},
   "source": [
    "\n",
    "<a href='https://www.darshan.ac.in/'> <img src='https://www.darshan.ac.in/Content/media/DU_Logo.svg' width=\"250\" height=\"300\"/></a>\n",
    "<pre>\n",
    "<center><b><h1>Python Programming - 2101CS405</b></center>\n",
    "<center><b><h1>Lab - 4</b></center>    \n",
    "<pre>"
   ]
  },
  {
   "cell_type": "markdown",
   "metadata": {},
   "source": [
    "# String"
   ]
  },
  {
   "cell_type": "markdown",
   "metadata": {},
   "source": [
    "### 01) WAP to check given string is palindrome or not."
   ]
  },
  {
   "cell_type": "code",
   "execution_count": 2,
   "metadata": {},
   "outputs": [
    {
     "name": "stdout",
     "output_type": "stream",
     "text": [
      "Enter string : meem\n",
      "meem is palindrome\n"
     ]
    }
   ],
   "source": [
    "str = input(\"Enter string : \")\n",
    "if str == str[::-1]:\n",
    "    print(f\"{str} is palindrome\")\n",
    "else:\n",
    "    print(f\"{str} is not palindrome\")"
   ]
  },
  {
   "cell_type": "markdown",
   "metadata": {},
   "source": [
    "### 02) WAP to reverse the words in given string."
   ]
  },
  {
   "cell_type": "code",
   "execution_count": 17,
   "metadata": {},
   "outputs": [
    {
     "name": "stdout",
     "output_type": "stream",
     "text": [
      "Enter string : madhav is heree\n",
      "heree is madhav\n"
     ]
    }
   ],
   "source": [
    "str = input(\"Enter string : \")\n",
    "str = str.split(\" \")\n",
    "str = str[::-1]\n",
    "str = \" \".join(str)\n",
    "print(str)"
   ]
  },
  {
   "cell_type": "markdown",
   "metadata": {},
   "source": [
    "### 03) WAP to remove ith character from given string"
   ]
  },
  {
   "cell_type": "code",
   "execution_count": 20,
   "metadata": {},
   "outputs": [
    {
     "name": "stdout",
     "output_type": "stream",
     "text": [
      "Enter string : madhav\n",
      "Enter index of char to remove : 2\n",
      "mahav\n"
     ]
    }
   ],
   "source": [
    "str = input(\"Enter string : \")\n",
    "index = int(input(\"Enter index of char to remove : \"))\n",
    "str = str.replace(str[index],'')\n",
    "print(str)"
   ]
  },
  {
   "cell_type": "markdown",
   "metadata": {},
   "source": [
    "### 04) WAP to find length of String without using len function."
   ]
  },
  {
   "cell_type": "code",
   "execution_count": 26,
   "metadata": {},
   "outputs": [
    {
     "name": "stdout",
     "output_type": "stream",
     "text": [
      "Enter string : a\n",
      "1\n"
     ]
    }
   ],
   "source": [
    "str = input(\"Enter string : \")\n",
    "count = 1\n",
    "for i in str:\n",
    "    if i == str[-1]:\n",
    "        break\n",
    "    count += 1\n",
    "print(count)"
   ]
  },
  {
   "cell_type": "markdown",
   "metadata": {},
   "source": [
    "### 05) WAP to print even length word in string."
   ]
  },
  {
   "cell_type": "code",
   "execution_count": 29,
   "metadata": {},
   "outputs": [
    {
     "name": "stdout",
     "output_type": "stream",
     "text": [
      "Enter stringmadhav is good boi\n",
      "madhav\n",
      "is\n",
      "good\n"
     ]
    }
   ],
   "source": [
    "str = input(\"Enter string : \")\n",
    "str = str.split(\" \")\n",
    "for i in str:\n",
    "    if len(i) % 2 == 0:\n",
    "        print(i)"
   ]
  },
  {
   "cell_type": "markdown",
   "metadata": {},
   "source": [
    "### 06) WAP to count numbers of vowels in given string."
   ]
  },
  {
   "cell_type": "code",
   "execution_count": 31,
   "metadata": {},
   "outputs": [
    {
     "name": "stdout",
     "output_type": "stream",
     "text": [
      "Enter string : madhav is heree\n",
      "6\n"
     ]
    }
   ],
   "source": [
    "str = input(\"Enter string : \")\n",
    "count = 0\n",
    "\n",
    "for i in str:\n",
    "    if i.lower() in ['a','e','i','o','u']:\n",
    "        count += 1\n",
    "print(count)"
   ]
  },
  {
   "cell_type": "markdown",
   "metadata": {},
   "source": [
    "### 07) WAP to convert given array to string."
   ]
  },
  {
   "cell_type": "code",
   "execution_count": 34,
   "metadata": {},
   "outputs": [
    {
     "name": "stdout",
     "output_type": "stream",
     "text": [
      "Madhav is % good\n"
     ]
    }
   ],
   "source": [
    "arr = [\"Madhav\", \"is\", \"%\", \"good\"]\n",
    "str = \" \".join(arr)\n",
    "print(str)"
   ]
  },
  {
   "cell_type": "markdown",
   "metadata": {},
   "source": [
    "### 01) WAP to find out duplicate characters in given string."
   ]
  },
  {
   "cell_type": "code",
   "execution_count": 39,
   "metadata": {},
   "outputs": [
    {
     "name": "stdout",
     "output_type": "stream",
     "text": [
      "Enter string : madhav meet\n",
      "['m', 'a', 'e']\n"
     ]
    }
   ],
   "source": [
    "str = input(\"Enter string : \")\n",
    "dupe = []\n",
    "for i in str:\n",
    "    if str.count(i) > 1 and i not in dupe:\n",
    "            dupe.append(i)\n",
    "print(dupe)"
   ]
  },
  {
   "cell_type": "markdown",
   "metadata": {},
   "source": [
    "### 02) WAP to capitalize the first and last character of each word in a string."
   ]
  },
  {
   "cell_type": "code",
   "execution_count": 63,
   "metadata": {},
   "outputs": [
    {
     "name": "stdout",
     "output_type": "stream",
     "text": [
      "Enter string : madhv is here\n",
      "MadhV IS HerE\n"
     ]
    }
   ],
   "source": [
    "str = input(\"Enter string : \")\n",
    "str = str.split(\" \")\n",
    "newStr = []\n",
    "for i in str:\n",
    "    first = i[0].upper()\n",
    "    last = i[-1].upper()\n",
    "    newStr.append(first+i[1:len(i)-1]+last)\n",
    "str = \" \".join(newStr)\n",
    "print(str)"
   ]
  },
  {
   "cell_type": "markdown",
   "metadata": {},
   "source": [
    "### 03) WAP to find Maximum frequency character in String."
   ]
  },
  {
   "cell_type": "code",
   "execution_count": 87,
   "metadata": {},
   "outputs": [
    {
     "name": "stdout",
     "output_type": "stream",
     "text": [
      "Enter string here : madhav meet nishth\n",
      "h comes 3 times\n"
     ]
    }
   ],
   "source": [
    "str = input(\"Enter string here : \")\n",
    "dic = {}\n",
    "for i in str:\n",
    "    if i != \" \":\n",
    "        dic[i] = str.count(i)\n",
    "\n",
    "maxCount = max(dic.values())\n",
    "for i in dic:\n",
    "    if maxCount == dic[i]:\n",
    "        print(f\"{i} comes {dic[i]} times\")"
   ]
  },
  {
   "cell_type": "markdown",
   "metadata": {},
   "source": [
    "### 04) WAP to find Minimum frequency character in String."
   ]
  },
  {
   "cell_type": "code",
   "execution_count": 88,
   "metadata": {},
   "outputs": [
    {
     "name": "stdout",
     "output_type": "stream",
     "text": [
      "Enter string here : madhav\n",
      "m comes 1 times\n",
      "d comes 1 times\n",
      "h comes 1 times\n",
      "v comes 1 times\n"
     ]
    }
   ],
   "source": [
    "str = input(\"Enter string here : \")\n",
    "dic = {}\n",
    "for i in str:\n",
    "    if i != \" \":\n",
    "        dic[i] = str.count(i)\n",
    "\n",
    "minCount = min(dic.values())\n",
    "for i in dic:\n",
    "    if minCount == dic[i]:\n",
    "        print(f\"{i} comes {dic[i]} times\")"
   ]
  },
  {
   "cell_type": "markdown",
   "metadata": {},
   "source": [
    "### 05) WAP to check if a given string is binary string or not"
   ]
  },
  {
   "cell_type": "code",
   "execution_count": 94,
   "metadata": {},
   "outputs": [
    {
     "name": "stdout",
     "output_type": "stream",
     "text": [
      "Enter string : ni1oth\n",
      "no\n"
     ]
    }
   ],
   "source": [
    "str = input(\"Enter string : \")\n",
    "\n",
    "for i in str:\n",
    "    if i not in ['0','1']:\n",
    "        print(\"no\")\n",
    "        break\n",
    "else:\n",
    "    print(\"yes\")"
   ]
  }
 ],
 "metadata": {
  "kernelspec": {
   "display_name": "Python 3 (ipykernel)",
   "language": "python",
   "name": "python3"
  },
  "language_info": {
   "codemirror_mode": {
    "name": "ipython",
    "version": 3
   },
   "file_extension": ".py",
   "mimetype": "text/x-python",
   "name": "python",
   "nbconvert_exporter": "python",
   "pygments_lexer": "ipython3",
   "version": "3.11.5"
  },
  "vscode": {
   "interpreter": {
    "hash": "31f2aee4e71d21fbe5cf8b01ff0e069b9275f58929596ceb00d14d90e3e16cd6"
   }
  }
 },
 "nbformat": 4,
 "nbformat_minor": 4
}
