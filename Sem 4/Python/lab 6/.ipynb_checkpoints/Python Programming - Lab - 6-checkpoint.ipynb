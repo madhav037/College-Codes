{
 "cells": [
  {
   "cell_type": "markdown",
   "metadata": {},
   "source": [
    "<a href='https://www.darshan.ac.in/'> <img src='https://www.darshan.ac.in/Content/media/DU_Logo.svg' width=\"250\" height=\"300\"/></a>\n",
    "<pre>\n",
    "<center><b><h1>Python Programming - 2101CS405</b></center>\n",
    "<center><b><h1>Lab - 6</b></center>    \n",
    "<pre>"
   ]
  },
  {
   "cell_type": "markdown",
   "metadata": {},
   "source": [
    "# Tuples, dictionary, set"
   ]
  },
  {
   "cell_type": "markdown",
   "metadata": {},
   "source": [
    "# A"
   ]
  },
  {
   "cell_type": "markdown",
   "metadata": {},
   "source": [
    "### 01) WAP to sort python dictionary by key or value."
   ]
  },
  {
   "cell_type": "code",
   "execution_count": 17,
   "metadata": {},
   "outputs": [
    {
     "name": "stdout",
     "output_type": "stream",
     "text": [
      "{1: 'a', 2: 'b', 3: 'c'}\n",
      "{1: 'a', 2: 'b', 3: 'c'}\n"
     ]
    }
   ],
   "source": [
    "dic = {1 : 'a', 3 : 'c', 2 : 'b'}\n",
    "l = []\n",
    "for i in dic.keys():\n",
    "    l.append(i)\n",
    "l.sort()\n",
    "newDic = {}\n",
    "for i in l:\n",
    "    newDic[i] = dic[i]\n",
    "print(newDic)\n",
    "\n",
    "l.clear()\n",
    "\n",
    "for i in dic.values():\n",
    "    l.append(i)\n",
    "l.sort()\n",
    "newDic = {}\n",
    "for i in l:\n",
    "    for j,k in dic.items():\n",
    "        if k == i:\n",
    "            newDic[j] = k\n",
    "print(newDic)\n",
    "    "
   ]
  },
  {
   "cell_type": "markdown",
   "metadata": {},
   "source": [
    "### 02) WAP to merge two dictionaries given by user."
   ]
  },
  {
   "cell_type": "code",
   "execution_count": 27,
   "metadata": {},
   "outputs": [
    {
     "name": "stdout",
     "output_type": "stream",
     "text": [
      "Enter size of dic 1 : 3\n",
      "Enter key : sdv\n",
      "Enter value : sdds\n",
      "Enter key : vdsv\n",
      "Enter value : sv\n",
      "Enter key : sv\n",
      "Enter value : svds\n",
      "{'sdv': 'sdds', 'vdsv': 'sv', 'sv': 'svds'}\n",
      "Enter size of dic 2 : 3\n",
      "Enter key : s\n",
      "Enter value : vdsv\n",
      "Enter key : dsv\n",
      "Enter value : sv\n",
      "Enter key : vs\n",
      "Enter value : sd\n",
      "{'sdv': 'sdds', 'vdsv': 'sv', 'sv': 'svds'}\n",
      "{'s': 'vdsv', 'dsv': 'sv', 'vs': 'sd'}\n",
      "{'sdv': 'sdds', 'vdsv': 'sv', 'sv': 'svds', 's': 'vdsv', 'dsv': 'sv', 'vs': 'sd'}\n"
     ]
    }
   ],
   "source": [
    "dic1 = {}\n",
    "size = int(input(\"Enter size of dic 1 : \"))\n",
    "while size:\n",
    "    key = input(\"Enter key : \")\n",
    "    value = input(\"Enter value : \")\n",
    "    if key not in dic1:\n",
    "        dic1[key] = value\n",
    "        size -= 1\n",
    "    else:\n",
    "        print(\"invalid key\")\n",
    "    \n",
    "print(dic1)\n",
    "dic2 = {}\n",
    "size = int(input(\"Enter size of dic 2 : \"))\n",
    "while size:\n",
    "    key = input(\"Enter key : \")\n",
    "    value = input(\"Enter value : \")\n",
    "    if key not in dic1 and key not in dic2:\n",
    "        dic2[key] = value\n",
    "        size -= 1\n",
    "    else:\n",
    "        print(\"invalid key\")\n",
    "print(dic2)\n",
    "\n",
    "for key,value in dic2.items():\n",
    "    dic1[key] = value\n",
    "print(dic1)"
   ]
  },
  {
   "cell_type": "markdown",
   "metadata": {},
   "source": [
    "### 03) WAP to find tuples that have all elements divisible by K from a list of tuples."
   ]
  },
  {
   "cell_type": "code",
   "execution_count": 29,
   "metadata": {},
   "outputs": [
    {
     "name": "stdout",
     "output_type": "stream",
     "text": [
      "(2, 4, 6)\n"
     ]
    }
   ],
   "source": [
    "l = [(2,4,6),(2,5,7),(2,5,4),(3,5,9)]\n",
    "k = 2\n",
    "for i in l:\n",
    "    for j in i:\n",
    "        if j % k != 0:\n",
    "            break\n",
    "    else:\n",
    "        print(i)"
   ]
  },
  {
   "cell_type": "markdown",
   "metadata": {},
   "source": [
    "### 04) WAP to find Tuples with positive elements in List of tuples."
   ]
  },
  {
   "cell_type": "code",
   "execution_count": 31,
   "metadata": {},
   "outputs": [
    {
     "name": "stdout",
     "output_type": "stream",
     "text": [
      "[(1, 2, 3), (1, 2, 3, 4, 5, 6, 7)]\n"
     ]
    }
   ],
   "source": [
    "l = [(1,2,3),(-2,4,6),(1,2,3,4,5,6,7),(-4,-56,3,2,5)]\n",
    "l1 = []\n",
    "for i in l:\n",
    "    for j in i:\n",
    "        if j < 0:\n",
    "            break\n",
    "    else:\n",
    "        l1.append(i)\n",
    "print(l1)"
   ]
  },
  {
   "cell_type": "markdown",
   "metadata": {},
   "source": [
    "### 05) WAP which perform union of two sets."
   ]
  },
  {
   "cell_type": "code",
   "execution_count": 32,
   "metadata": {},
   "outputs": [
    {
     "name": "stdout",
     "output_type": "stream",
     "text": [
      "{32, 1, 2, 97, 4, 3, 6, 7, 99, 9, 74, 54, 87}\n"
     ]
    }
   ],
   "source": [
    "s1 = {1,2,4,54,6,7,9,97,54,32,3}\n",
    "s2 = {1,2,54,9,3,99,74,87}\n",
    "s3 = s1.union(s2)\n",
    "print(s3)"
   ]
  },
  {
   "cell_type": "markdown",
   "metadata": {},
   "source": [
    "# B"
   ]
  },
  {
   "cell_type": "markdown",
   "metadata": {},
   "source": [
    "### 01) WAP to convert binary tuple into integer."
   ]
  },
  {
   "cell_type": "code",
   "execution_count": 54,
   "metadata": {},
   "outputs": [
    {
     "name": "stdout",
     "output_type": "stream",
     "text": [
      "3\n"
     ]
    }
   ],
   "source": [
    "t = (0,0,1,1)\n",
    "length = len(t)-1\n",
    "deci = 0\n",
    "for i in t:\n",
    "    deci += i * (2**length)\n",
    "    length -= 1\n",
    "print(deci)"
   ]
  },
  {
   "cell_type": "markdown",
   "metadata": {},
   "source": [
    "### 02) WAP to count frequency in list by dictionary."
   ]
  },
  {
   "cell_type": "code",
   "execution_count": 45,
   "metadata": {},
   "outputs": [
    {
     "name": "stdout",
     "output_type": "stream",
     "text": [
      "[1, 1, 2, 2, 2, 2, 2, 3, 4, 4, 6, 7, 8, 8, 42, 52, 54, 54, 54, 73, 87]\n",
      "{1: 2, 2: 5, 4: 2, 54: 3, 7: 1, 3: 1, 73: 1, 8: 2, 42: 1, 6: 1, 87: 1, 52: 1}\n"
     ]
    }
   ],
   "source": [
    "l = [1,2,4,4,2,1,54,7,3,73,8,42,2,6,87,52,2,54,8,54,2]\n",
    "dic = {}\n",
    "for i in l:\n",
    "    if i not in dic:\n",
    "        dic[i] = l.count(i)\n",
    "print(dic)"
   ]
  },
  {
   "cell_type": "markdown",
   "metadata": {},
   "source": [
    "### 03) WAP to remove all the duplicate words from the list using dictionary."
   ]
  },
  {
   "cell_type": "code",
   "execution_count": 55,
   "metadata": {},
   "outputs": [
    {
     "name": "stdout",
     "output_type": "stream",
     "text": [
      "{'hello': 0, 'hi': 0, 'you': 0, 'it': 0, 'is': 0, 'nicee': 0, 'to': 0, 'meet': 0, 'a': 0, 'b': 0, 'c': 0, 'v': 0, 'd': 0}\n"
     ]
    }
   ],
   "source": [
    "l = ['hello' ,'hi','you' ,'it' ,'is' ,'is' ,'nicee' ,'to' ,'meet' ,'you' ,'a' ,'a' ,'b' ,'c' ,'a' ,'v','d','hello','hi']\n",
    "dic = {}\n",
    "for i in l:\n",
    "    if i not in dic:\n",
    "        dic[i] = 0\n",
    "print(dic)"
   ]
  }
 ],
 "metadata": {
  "kernelspec": {
   "display_name": "Python 3 (ipykernel)",
   "language": "python",
   "name": "python3"
  },
  "language_info": {
   "codemirror_mode": {
    "name": "ipython",
    "version": 3
   },
   "file_extension": ".py",
   "mimetype": "text/x-python",
   "name": "python",
   "nbconvert_exporter": "python",
   "pygments_lexer": "ipython3",
   "version": "3.11.5"
  }
 },
 "nbformat": 4,
 "nbformat_minor": 4
}
