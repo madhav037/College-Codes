{
 "cells": [
  {
   "cell_type": "markdown",
   "metadata": {},
   "source": [
    "<a href='https://www.darshan.ac.in/'> <img src='https://www.darshan.ac.in/Content/media/DU_Logo.svg' width=\"250\" height=\"300\"/></a>\n",
    "<pre>\n",
    "<center><b><h1>Python Programming - 2101CS405</b></center>\n",
    "<center><b><h1>Lab - 1</b></center>    \n",
    "<pre>"
   ]
  },
  {
   "cell_type": "markdown",
   "metadata": {},
   "source": [
    "### 01) WAP to print “Hello World”"
   ]
  },
  {
   "cell_type": "code",
   "execution_count": 1,
   "metadata": {},
   "outputs": [
    {
     "name": "stdout",
     "output_type": "stream",
     "text": [
      "Hello World\n"
     ]
    }
   ],
   "source": [
    "print(\"Hello World\")"
   ]
  },
  {
   "cell_type": "markdown",
   "metadata": {},
   "source": [
    "### 02) WAP to print your address i) using single print ii) using multiple print"
   ]
  },
  {
   "cell_type": "code",
   "execution_count": 4,
   "metadata": {},
   "outputs": [
    {
     "name": "stdout",
     "output_type": "stream",
     "text": [
      "Vaishali \n",
      "nagar\n",
      "Vaishali\n",
      "nagar\n"
     ]
    }
   ],
   "source": [
    "print(\"Vaishali \\nnagar\")\n",
    "\n",
    "print(\"Vaishali\")\n",
    "print(\"nagar\")\n"
   ]
  },
  {
   "cell_type": "markdown",
   "metadata": {},
   "source": [
    "### 03) WAP to print addition of 2 numbers (without input function)"
   ]
  },
  {
   "cell_type": "code",
   "execution_count": 3,
   "metadata": {},
   "outputs": [
    {
     "name": "stdout",
     "output_type": "stream",
     "text": [
      "9\n"
     ]
    }
   ],
   "source": [
    "print(5+4)"
   ]
  },
  {
   "cell_type": "markdown",
   "metadata": {},
   "source": [
    "### 04) WAP to calculate and print average of 2 numbers (without input function)"
   ]
  },
  {
   "cell_type": "code",
   "execution_count": 5,
   "metadata": {},
   "outputs": [
    {
     "name": "stdout",
     "output_type": "stream",
     "text": [
      "4.5\n"
     ]
    }
   ],
   "source": [
    "print((5+4)/2)"
   ]
  },
  {
   "cell_type": "markdown",
   "metadata": {},
   "source": [
    "### 05) WAP to add two number entered by user."
   ]
  },
  {
   "cell_type": "code",
   "execution_count": 7,
   "metadata": {},
   "outputs": [
    {
     "name": "stdout",
     "output_type": "stream",
     "text": [
      "Enter num 1 : 5\n",
      "Enter num 2 : 6\n",
      "sum is : 11\n"
     ]
    }
   ],
   "source": [
    "a = int(input(\"Enter num 1 : \"))\n",
    "b = int(input(\"Enter num 2 : \"))\n",
    "print(\"sum is :\",a+b)"
   ]
  },
  {
   "cell_type": "markdown",
   "metadata": {},
   "source": [
    "### 06) WAP to calculate simple interest."
   ]
  },
  {
   "cell_type": "code",
   "execution_count": 9,
   "metadata": {},
   "outputs": [
    {
     "name": "stdout",
     "output_type": "stream",
     "text": [
      "p = 3\n",
      "r = 4\n",
      "t = 5\n",
      "Simple intrest is :  0.6\n"
     ]
    }
   ],
   "source": [
    "p = int(input(\"p = \"))\n",
    "r = int(input(\"r = \"))\n",
    "t = int(input(\"t = \"))\n",
    "\n",
    "print(\"Simple intrest is : \",(p*r*t)/100)"
   ]
  },
  {
   "cell_type": "markdown",
   "metadata": {},
   "source": [
    "### 07) WAP Calculate Area and Circumfrence of Circle"
   ]
  },
  {
   "cell_type": "code",
   "execution_count": 36,
   "metadata": {},
   "outputs": [
    {
     "name": "stdout",
     "output_type": "stream",
     "text": [
      "Enter radius : 4\n",
      "circumfrence is  25.12\n",
      "Area =  50.24\n"
     ]
    }
   ],
   "source": [
    "r = int(input(\"Enter radius : \"))\n",
    "print(\"circumfrence is \", 2 * 3.14 * r)\n",
    "print(\"Area = \", 3.14 * r * r)"
   ]
  },
  {
   "cell_type": "markdown",
   "metadata": {},
   "source": [
    "### 08) WAP to print Multiplication table of given number without using loops."
   ]
  },
  {
   "cell_type": "code",
   "execution_count": 59,
   "metadata": {},
   "outputs": [
    {
     "name": "stdout",
     "output_type": "stream",
     "text": [
      "Enter table : 4\n",
      "4  * 1 = 4\n",
      "4  * 2 = 8\n",
      "4  * 3 = 12\n",
      "4  * 4 = 16\n",
      "4  * 5 = 20\n",
      "4  * 6 = 24\n",
      "4  * 7 = 28\n",
      "4  * 8 = 32\n",
      "4  * 9 = 36\n",
      "4  * 10 = 40\n"
     ]
    }
   ],
   "source": [
    "num = int(input(\"Enter table : \"))\n",
    "print(num,\" * 1 =\", num * 1)\n",
    "print(num,\" * 2 =\", num * 2)\n",
    "print(num,\" * 3 =\", num * 3)\n",
    "print(num,\" * 4 =\", num * 4)\n",
    "print(num,\" * 5 =\", num * 5)\n",
    "print(num,\" * 6 =\", num * 6)\n",
    "print(num,\" * 7 =\", num * 7)\n",
    "print(num,\" * 8 =\", num * 8)\n",
    "print(num,\" * 9 =\", num * 9)\n",
    "print(num,\" * 10 =\",num * 10)"
   ]
  },
  {
   "cell_type": "markdown",
   "metadata": {},
   "source": [
    "### 09) WAP to calculate Area of Triangle (hint: a = h * b * 0.5)"
   ]
  },
  {
   "cell_type": "code",
   "execution_count": 18,
   "metadata": {},
   "outputs": [
    {
     "name": "stdout",
     "output_type": "stream",
     "text": [
      "Height : 4\n",
      "Base : 5\n",
      "Area =  10.0\n"
     ]
    }
   ],
   "source": [
    "h = int(input(\"Height : \"))\n",
    "b = int(input(\"Base : \"))\n",
    "print(\"Area = \", h*b*0.5)"
   ]
  },
  {
   "cell_type": "markdown",
   "metadata": {},
   "source": [
    "### 10) WAP to convert degree to Fahrenheit and vice versa."
   ]
  },
  {
   "cell_type": "code",
   "execution_count": 31,
   "metadata": {},
   "outputs": [
    {
     "name": "stdout",
     "output_type": "stream",
     "text": [
      "Enter deg : 45\n",
      "Fahrenheit : 113.0\n"
     ]
    }
   ],
   "source": [
    "c = float(input(\"Enter deg : \"))\n",
    "print(\"Fahrenheit :\", (c * 1.8)+32)"
   ]
  },
  {
   "cell_type": "code",
   "execution_count": 32,
   "metadata": {},
   "outputs": [
    {
     "name": "stdout",
     "output_type": "stream",
     "text": [
      "Enter fahrenheit : 113\n",
      "cel =  45.0\n"
     ]
    }
   ],
   "source": [
    "f = float(input(\"Enter fahrenheit : \"))\n",
    "print(\"cel = \", (f-32)*5/9)"
   ]
  },
  {
   "cell_type": "markdown",
   "metadata": {},
   "source": [
    "### 11) WAP to calculate total marks and Percentage."
   ]
  },
  {
   "cell_type": "code",
   "execution_count": 35,
   "metadata": {},
   "outputs": [
    {
     "name": "stdout",
     "output_type": "stream",
     "text": [
      "sub1 : 1\n",
      "sub2 : 1\n",
      "Total marks :  2\n",
      "percentage :  1.0\n"
     ]
    }
   ],
   "source": [
    "sub1 = int(input(\"sub1 : \"))\n",
    "sub2 = int(input(\"sub2 : \"))\n",
    "\n",
    "totalMarks = sub1 + sub2\n",
    "print(\"Total marks : \", totalMarks)\n",
    "print(\"percentage : \", (totalMarks)/200*100)"
   ]
  },
  {
   "cell_type": "markdown",
   "metadata": {},
   "source": [
    "### 12) Compute distance between two points taking input from the user (Pythagorean Theorem)."
   ]
  },
  {
   "cell_type": "code",
   "execution_count": 61,
   "metadata": {},
   "outputs": [
    {
     "name": "stdout",
     "output_type": "stream",
     "text": [
      "Enter x1 : 1\n",
      "Enter x2 : 2\n",
      "Enter y1 : 1\n",
      "Enter y2 : 2\n",
      "distance =  1.4142135623730951\n"
     ]
    }
   ],
   "source": [
    "x1 = int(input(\"Enter x1 : \"))\n",
    "x2 = int(input(\"Enter x2 : \"))\n",
    "y1 = int(input(\"Enter y1 : \"))\n",
    "y2 = int(input(\"Enter y2 : \"))\n",
    "print(\"distance = \", ((x1-x2)*(x1-x2) + (y1-y2)*(y1-y2))**0.5)"
   ]
  },
  {
   "cell_type": "markdown",
   "metadata": {},
   "source": [
    "### 13) WAP to convert seconds into hours, minutes & seconds and print in HH:MM:SS\n",
    "[e.g. 10000 seconds mean 2:46:40 (2 Hours, 46 Minutes, 40Seconds)]"
   ]
  },
  {
   "cell_type": "code",
   "execution_count": 48,
   "metadata": {},
   "outputs": [
    {
     "name": "stdout",
     "output_type": "stream",
     "text": [
      "Enter seconds : 10000\n",
      "2 :: 46 :: 40\n"
     ]
    }
   ],
   "source": [
    "seconds = int(input(\"Enter seconds : \"))\n",
    "hour = seconds / (3600)\n",
    "seconds %= 3600\n",
    "minutes = seconds / 60\n",
    "seconds %= 60\n",
    "print(int(hour), \"::\", int(minutes), \"::\", int(seconds))"
   ]
  },
  {
   "cell_type": "markdown",
   "metadata": {},
   "source": [
    "### 14) WAP to enter distance into kilometer and convert it into meter, feet,inches, and centimeter"
   ]
  },
  {
   "cell_type": "code",
   "execution_count": 54,
   "metadata": {},
   "outputs": [
    {
     "name": "stdout",
     "output_type": "stream",
     "text": [
      "Distance(km) : 1000\n",
      "km =  1000 \n",
      "m =  1000000 \n",
      "feet =  3280840.0 \n",
      "inches =  39370100.0 \n",
      "cm =  100000000\n"
     ]
    }
   ],
   "source": [
    "dis = int(input(\"Distance(km) : \"))\n",
    "meter = dis * 1000\n",
    "feet = dis * 3280.84\n",
    "inch = dis * 39370.1\n",
    "centi = dis * 100000\n",
    "print(\"km = \",dis, \"\\nm = \",meter, \"\\nfeet = \",feet, \"\\ninches = \",inch, \"\\ncm = \", centi)"
   ]
  },
  {
   "cell_type": "code",
   "execution_count": 63,
   "metadata": {},
   "outputs": [
    {
     "name": "stdout",
     "output_type": "stream",
     "text": [
      "enter a = 2\n",
      "enter b = 3\n",
      "a :  3\n",
      "b :  2\n"
     ]
    }
   ],
   "source": [
    "a = int(input(\"enter a = \"))\n",
    "b = int(input(\"enter b = \"))\n",
    "a = a+b\n",
    "b = a-b\n",
    "a = a-b\n",
    "print(\"a : \",a)\n",
    "print(\"b : \",b)"
   ]
  }
 ],
 "metadata": {
  "kernelspec": {
   "display_name": "Python 3 (ipykernel)",
   "language": "python",
   "name": "python3"
  },
  "language_info": {
   "codemirror_mode": {
    "name": "ipython",
    "version": 3
   },
   "file_extension": ".py",
   "mimetype": "text/x-python",
   "name": "python",
   "nbconvert_exporter": "python",
   "pygments_lexer": "ipython3",
   "version": "3.11.5"
  },
  "vscode": {
   "interpreter": {
    "hash": "31f2aee4e71d21fbe5cf8b01ff0e069b9275f58929596ceb00d14d90e3e16cd6"
   }
  }
 },
 "nbformat": 4,
 "nbformat_minor": 4
}
