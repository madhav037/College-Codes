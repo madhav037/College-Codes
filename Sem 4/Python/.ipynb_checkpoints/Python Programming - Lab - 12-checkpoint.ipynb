{
 "cells": [
  {
   "cell_type": "markdown",
   "metadata": {},
   "source": [
    "<a href='https://www.darshan.ac.in/'> <img src='https://www.darshan.ac.in/Content/media/DU_Logo.svg' width=\"250\" height=\"300\"/></a>\n",
    "<pre>\n",
    "<center><b><h1>Python Programming - 2101CS405</b></center>\n",
    "<center><b><h1>Lab - 12</b></center>    \n",
    "<pre>"
   ]
  },
  {
   "cell_type": "markdown",
   "metadata": {},
   "source": [
    "# OOP"
   ]
  },
  {
   "cell_type": "markdown",
   "metadata": {},
   "source": [
    "### 01) Write a Program to create a class by name Students, and initialize attributes like name, age, and grade while creating an object."
   ]
  },
  {
   "cell_type": "code",
   "execution_count": 1,
   "metadata": {},
   "outputs": [],
   "source": [
    "class Student:\n",
    "    def __init__(self,name,age,grade):\n",
    "        self.name = name\n",
    "        self.age = age\n",
    "        self.grade = grade\n",
    "\n",
    "s1 = Student(\"abc\",3,\"A+\")"
   ]
  },
  {
   "cell_type": "markdown",
   "metadata": {},
   "source": [
    "### 02) Create a class named Bank_Account with Account_No, User_Name, Email,Account_Type and Account_Balance data members. Also create a method GetAccountDetails() and DisplayAccountDetails(). Create main method to demonstrate the Bank_Account class."
   ]
  },
  {
   "cell_type": "code",
   "execution_count": 7,
   "metadata": {},
   "outputs": [
    {
     "name": "stdout",
     "output_type": "stream",
     "text": [
      "121212\n",
      "abc\n",
      "1@g.c\n",
      "Current\n",
      "987654321\n"
     ]
    }
   ],
   "source": [
    "class Bank_Account:\n",
    "    def __init__(self):\n",
    "        self.Account_No = 0\n",
    "        self.User_Name = ''\n",
    "        self.Email = ''\n",
    "        self.Account_Type = ''\n",
    "        self.Account_Balance = 0\n",
    "    \n",
    "    def getAccountDetails(self,Account_No, User_Name, Email,Account_Type,Account_Balance):\n",
    "        self.Account_No = Account_No\n",
    "        self.User_Name = User_Name\n",
    "        self.Email = Email\n",
    "        self.Account_Type = Account_Type\n",
    "        self.Account_Balance = Account_Balance\n",
    "        \n",
    "    def displayAccountDetails(self):\n",
    "        print(self.Account_No)\n",
    "        print(self.User_Name)\n",
    "        print(self.Email)\n",
    "        print(self.Account_Type)\n",
    "        print(self.Account_Balance)\n",
    "\n",
    "b1 = Bank_Account()\n",
    "b1.getAccountDetails(121212,\"abc\",\"1@g.c\",\"Current\",987654321)\n",
    "b1.displayAccountDetails()\n",
    "        "
   ]
  },
  {
   "cell_type": "markdown",
   "metadata": {},
   "source": [
    "### 03) WAP to create Circle class with area and perimeter function to find area and perimeter of circle."
   ]
  },
  {
   "cell_type": "code",
   "execution_count": 11,
   "metadata": {},
   "outputs": [
    {
     "name": "stdout",
     "output_type": "stream",
     "text": [
      "area :  12.56\n",
      "perimeter :  3.14\n"
     ]
    }
   ],
   "source": [
    "class Circle:\n",
    "    \n",
    "    def area(self,r):\n",
    "        print(\"area : \",3.14*r*r)\n",
    "    \n",
    "    def perimeter(self,r):\n",
    "        print(\"perimeter : \",2*3.14*r)\n",
    "c1 = Circle()\n",
    "c1.area(2)\n",
    "c1.perimeter(0.5)"
   ]
  },
  {
   "cell_type": "markdown",
   "metadata": {},
   "source": [
    "### 04) Create a class for employees that includes attributes such as name, age, salary, and methods to update and display employee information."
   ]
  },
  {
   "cell_type": "code",
   "execution_count": 13,
   "metadata": {},
   "outputs": [
    {
     "name": "stdout",
     "output_type": "stream",
     "text": [
      "Name :  abc\n",
      "Age :  25\n",
      "Salary :  1000000\n",
      "Updated\n",
      "Name :  def\n",
      "Age :  30\n",
      "Salary :  10000000\n"
     ]
    }
   ],
   "source": [
    "class Employees:\n",
    "    def __init__(self,name,age,salary):\n",
    "        self.name = name\n",
    "        self.age = age\n",
    "        self.salary = salary\n",
    "    \n",
    "    def display(self):\n",
    "        print(\"Name : \",self.name)\n",
    "        print(\"Age : \",self.age)\n",
    "        print(\"Salary : \",self.salary)\n",
    "    \n",
    "    def update(self,name,age,salary):\n",
    "        self.name = name\n",
    "        self.age = age\n",
    "        self.salary = salary\n",
    "\n",
    "e = Employees(\"abc\",25,1000000)\n",
    "e.display()\n",
    "e.update(\"def\",30,10000000)\n",
    "print(\"Updated\")\n",
    "e.display()\n",
    "        "
   ]
  },
  {
   "cell_type": "markdown",
   "metadata": {},
   "source": [
    "### 05) Create a bank account class with methods to deposit, withdraw, and check balance."
   ]
  },
  {
   "cell_type": "code",
   "execution_count": 14,
   "metadata": {},
   "outputs": [
    {
     "name": "stdout",
     "output_type": "stream",
     "text": [
      "1000000\n",
      "+ 2000\n",
      "- 1000\n",
      "1001000\n"
     ]
    }
   ],
   "source": [
    "class BankAcc:\n",
    "    def __init__(self,balance):\n",
    "        self.balance = balance\n",
    "    \n",
    "    def deposit(self,depo):\n",
    "        self.balance += depo\n",
    "        print(\"+\",depo)\n",
    "    \n",
    "    def withdraw(self,withd):\n",
    "        self.balance -= withd\n",
    "        print(\"-\",withd)\n",
    "        \n",
    "    \n",
    "    def checkBalance(self):\n",
    "        print(self.balance)\n",
    "\n",
    "b = BankAcc(1000000)\n",
    "b.checkBalance()\n",
    "b.deposit(2000)\n",
    "b.withdraw(1000)\n",
    "b.checkBalance()\n",
    "        "
   ]
  },
  {
   "cell_type": "markdown",
   "metadata": {},
   "source": [
    "### 06) Create a class for managing inventory that includes attributes such as item name, price, quantity, and methods to add, remove, and update items."
   ]
  },
  {
   "cell_type": "code",
   "execution_count": 15,
   "metadata": {},
   "outputs": [
    {
     "name": "stdout",
     "output_type": "stream",
     "text": [
      "quantity :  144\n",
      "quantity :  141\n",
      "name :  bcd\n",
      "price :  22\n",
      "quantity :  70\n"
     ]
    }
   ],
   "source": [
    "class Inventory:\n",
    "    def __init__(self,name,price,quantity):\n",
    "        self.name = name\n",
    "        self.price = price\n",
    "        self.quantity = quantity\n",
    "    \n",
    "    def add(self,num):\n",
    "        self.quantity += num\n",
    "        print(\"quantity : \",self.quantity)\n",
    "    \n",
    "    def remove(self,num):\n",
    "        self.quantity -= num\n",
    "        print(\"quantity : \",self.quantity)\n",
    "    \n",
    "    def update(self,name,price,quantity):\n",
    "        self.name = name\n",
    "        self.price = price\n",
    "        self.quantity = quantity\n",
    "        \n",
    "        print(\"name : \",self.name)\n",
    "        print(\"price : \",self.price)\n",
    "        print(\"quantity : \",self.quantity)\n",
    "        \n",
    "\n",
    "i1 = Inventory(\"abc\",24,99)\n",
    "i1.add(45)\n",
    "i1.remove(3)\n",
    "i1.update('bcd',22,70)"
   ]
  },
  {
   "cell_type": "markdown",
   "metadata": {},
   "source": [
    "### 09) Create a Class with instance attributes"
   ]
  },
  {
   "cell_type": "code",
   "execution_count": 16,
   "metadata": {},
   "outputs": [
    {
     "name": "stdout",
     "output_type": "stream",
     "text": [
      "a\n",
      "b\n"
     ]
    }
   ],
   "source": [
    "class A:\n",
    "    \n",
    "    def __init__(self,name):\n",
    "        self.name = name\n",
    "        print(name)\n",
    "\n",
    "a = A('a')\n",
    "b = A('b')"
   ]
  },
  {
   "cell_type": "markdown",
   "metadata": {},
   "source": [
    "### 07)\n",
    "Create one class student_kit <br>\n",
    "Within the student_kit class create one class attribute principal name ( Mr ABC ) <br>\n",
    "Create one attendance method and take input as number of days. <br>\n",
    "While creating student take input their name . <br>\n",
    "Create one certificate for each student by taking input of number of days present in class. <br>"
   ]
  },
  {
   "cell_type": "code",
   "execution_count": 23,
   "metadata": {},
   "outputs": [
    {
     "name": "stdout",
     "output_type": "stream",
     "text": [
      "Attendence is 45\n",
      "::::::: CRETIFICATE :::::::\n",
      "name :  madhav\n",
      "attendence :  45\n",
      "signed by :  Mr ABC\n",
      "Attendence is 66\n",
      "::::::: CRETIFICATE :::::::\n",
      "name :  vahdam\n",
      "attendence :  66\n",
      "signed by :  Mr ABC\n"
     ]
    }
   ],
   "source": [
    "class Student_kit:\n",
    "    principal = 'Mr ABC'\n",
    "    \n",
    "    def __init__(self):\n",
    "        self.att = 0\n",
    "        self.students =  \n",
    "    \n",
    "    def addStud(self,name):\n",
    "        self.students[name]= 0\n",
    "    \n",
    "    def attendence(self,numOfDays):\n",
    "        self.att = numOfDays\n",
    "        \n",
    "    def createCertificate(self):\n",
    "        for student in self.students.keys():\n",
    "            at = int(input(\"Attendence is \"))\n",
    "            self.attendence(at)\n",
    "            print(\"::::::: CRETIFICATE :::::::\")\n",
    "            print(\"name : \",student)\n",
    "            print(\"attendence : \",self.att)\n",
    "            print(\"signed by : \",Student_kit.principal)\n",
    "            \n",
    "            \n",
    "                \n",
    "    \n",
    "s = Student_kit()\n",
    "s.addStud('madhav')\n",
    "s.addStud('vahdam')\n",
    "s.createCertificate()\n",
    "        \n",
    "        "
   ]
  },
  {
   "cell_type": "markdown",
   "metadata": {},
   "source": [
    "### 08) Define Time class with hour and minute as data member. Also define addition method to add two time objects."
   ]
  },
  {
   "cell_type": "code",
   "execution_count": 26,
   "metadata": {},
   "outputs": [
    {
     "name": "stdout",
     "output_type": "stream",
     "text": [
      "7 : 35\n"
     ]
    }
   ],
   "source": [
    "class Time:\n",
    "    def __init__(self,h,m):\n",
    "        self.h = h\n",
    "        self.m = m\n",
    "    \n",
    "    def add(self,t1,t2):\n",
    "        self.h = t1.h + t2.h\n",
    "        self.m = t1.m + t2.m\n",
    "    \n",
    "    def display(self):\n",
    "        print(self.h,\":\",self.m)\n",
    "\n",
    "t1 = Time(3,30)\n",
    "t2 = Time(4,5)\n",
    "t3 = Time(0,0)\n",
    "\n",
    "t3.add(t1,t2)\n",
    "t3.display()\n",
    "        \n",
    "        "
   ]
  },
  {
   "cell_type": "markdown",
   "metadata": {},
   "source": [
    "### 09) WAP to demonstrate inheritance in python."
   ]
  },
  {
   "cell_type": "code",
   "execution_count": 33,
   "metadata": {},
   "outputs": [
    {
     "name": "stdout",
     "output_type": "stream",
     "text": [
      "child name :  CHH\n",
      "parent name :  ABC\n"
     ]
    }
   ],
   "source": [
    "class Parent:\n",
    "    name = 'ABC'\n",
    "\n",
    "class Child(Parent):\n",
    "    def __init__(self,name):\n",
    "        self.name = name\n",
    "    \n",
    "    def printFamily(self):\n",
    "        print(\"child name : \",self.name)\n",
    "        print(\"parent name : \",Parent.name)\n",
    "        \n",
    "c1 = Child(\"CHH\")\n",
    "c1.printFamily()\n",
    "         "
   ]
  },
  {
   "cell_type": "markdown",
   "metadata": {},
   "source": [
    "### 10) Create a child class Bus that will inherit all of the variables and methods of the Vehicle class\n",
    "class Vehicle:\n",
    "\n",
    "    def __init__(self, name, max_speed, mileage):\n",
    "        self.name = name\n",
    "        self.max_speed = max_speed\n",
    "        self.mileage = mileage\n",
    "        \n",
    "Create a Bus object that will inherit all of the variables and methods of the parent Vehicle class and display it.        "
   ]
  },
  {
   "cell_type": "code",
   "execution_count": 32,
   "metadata": {},
   "outputs": [
    {
     "name": "stdout",
     "output_type": "stream",
     "text": [
      "asd\n",
      "23\n",
      "22\n"
     ]
    }
   ],
   "source": [
    "class Vehicle:\n",
    "    def __init__(self, name, max_speed, mileage):\n",
    "        self.name = name\n",
    "        self.max_speed = max_speed\n",
    "        self.mileage = mileage\n",
    "\n",
    "class Bus(Vehicle):\n",
    "    def display(self):\n",
    "        print(self.name)\n",
    "        print(self.max_speed)\n",
    "        print(self.mileage)\n",
    "\n",
    "b = Bus('asd',23,22)\n",
    "b.display()\n",
    "        "
   ]
  },
  {
   "cell_type": "markdown",
   "metadata": {},
   "source": [
    "### 11)  Create a class hierarchy for different types of animals, with a parent Animal class and child classes for specific animals like Cat, Dog, and Bird."
   ]
  },
  {
   "cell_type": "code",
   "execution_count": 36,
   "metadata": {},
   "outputs": [
    {
     "name": "stdout",
     "output_type": "stream",
     "text": [
      "cat\n",
      "bird\n",
      "dog\n"
     ]
    }
   ],
   "source": [
    "class Animals:\n",
    "    def __init__(self,name):\n",
    "        self.name = name\n",
    "        \n",
    "    def printn(self):\n",
    "        print(self.name)\n",
    "        \n",
    "class Cat(Animals):\n",
    "    def __init__(self,name):\n",
    "        self.name = name\n",
    "        \n",
    "class Dog(Animals):\n",
    "    def __init__(self,name):\n",
    "        self.name = name\n",
    "        \n",
    "class Bird(Animals):\n",
    "    def __init__(self,name):\n",
    "        self.name = name\n",
    "\n",
    "c = Cat('cat')\n",
    "b = Bird('bird')\n",
    "d = Dog('dog')\n",
    "c.printn()\n",
    "b.printn()\n",
    "d.printn()"
   ]
  },
  {
   "cell_type": "markdown",
   "metadata": {},
   "source": [
    "### 12) Create a class hierarchy for different types of vehicles, with a parent Vehicle class and child classes for specific vehicles like Car, Truck, and Motorcycle."
   ]
  },
  {
   "cell_type": "code",
   "execution_count": 38,
   "metadata": {},
   "outputs": [
    {
     "name": "stdout",
     "output_type": "stream",
     "text": [
      "Car\n",
      "Truck\n",
      "Motorcycle\n"
     ]
    }
   ],
   "source": [
    "class Vehicle:\n",
    "    def __init__(self,name):\n",
    "        self.name = name\n",
    "        \n",
    "    def printn(self):\n",
    "        print(self.name)\n",
    "        \n",
    "class Car(Vehicle):\n",
    "    def __init__(self,name):\n",
    "        self.name = name\n",
    "        \n",
    "class Truck(Vehicle):\n",
    "    def __init__(self,name):\n",
    "        self.name = name\n",
    "        \n",
    "class Motorcycle(Vehicle):\n",
    "    def __init__(self,name):\n",
    "        self.name = name\n",
    "\n",
    "c = Car('Car')\n",
    "b = Truck('Truck')\n",
    "d = Motorcycle('Motorcycle')\n",
    "c.printn()\n",
    "b.printn()\n",
    "d.printn()"
   ]
  },
  {
   "cell_type": "markdown",
   "metadata": {},
   "source": [
    "### 13)  Create a class hierarchy for different types of bank accounts, with a parent Account class and child classes for specific account types like Checking, Savings, and Credit."
   ]
  },
  {
   "cell_type": "code",
   "execution_count": 39,
   "metadata": {},
   "outputs": [
    {
     "name": "stdout",
     "output_type": "stream",
     "text": [
      "Checking\n",
      "Savings\n",
      "Credit\n"
     ]
    }
   ],
   "source": [
    "class ParentAcc:\n",
    "    def __init__(self,name):\n",
    "        self.name = name\n",
    "        \n",
    "    def printn(self):\n",
    "        print(self.name)\n",
    "        \n",
    "class Checking(ParentAcc):\n",
    "    def __init__(self,name):\n",
    "        self.name = name\n",
    "        \n",
    "class Savings(ParentAcc):\n",
    "    def __init__(self,name):\n",
    "        self.name = name\n",
    "        \n",
    "class Credit(ParentAcc):\n",
    "    def __init__(self,name):\n",
    "        self.name = name\n",
    "\n",
    "c = Checking('Checking')\n",
    "b = Savings('Savings')\n",
    "d = Credit('Credit')\n",
    "c.printn()\n",
    "b.printn()\n",
    "d.printn()"
   ]
  },
  {
   "cell_type": "markdown",
   "metadata": {},
   "source": [
    "### 14) Create a Shape class with a draw method that is not implemented. Create three child classes Rectangle, Circle, and Triangle that implement the draw method with their respective drawing behaviors. Create a list of Shape objects that includes one instance of each child class, and then iterate through the list and call the draw method on each object."
   ]
  },
  {
   "cell_type": "code",
   "execution_count": null,
   "metadata": {},
   "outputs": [],
   "source": []
  },
  {
   "cell_type": "markdown",
   "metadata": {},
   "source": [
    "### 15) Create a Person class with a constructor that takes two arguments name and age. Create a child class Employee that inherits from Person and adds a new attribute salary. Override the __init__ method in Employee to call the parent class's __init__ method using the super keyword, and then initialize the salary attribute."
   ]
  },
  {
   "cell_type": "code",
   "execution_count": null,
   "metadata": {},
   "outputs": [],
   "source": []
  }
 ],
 "metadata": {
  "kernelspec": {
   "display_name": "Python 3 (ipykernel)",
   "language": "python",
   "name": "python3"
  },
  "language_info": {
   "codemirror_mode": {
    "name": "ipython",
    "version": 3
   },
   "file_extension": ".py",
   "mimetype": "text/x-python",
   "name": "python",
   "nbconvert_exporter": "python",
   "pygments_lexer": "ipython3",
   "version": "3.11.5"
  }
 },
 "nbformat": 4,
 "nbformat_minor": 4
}
