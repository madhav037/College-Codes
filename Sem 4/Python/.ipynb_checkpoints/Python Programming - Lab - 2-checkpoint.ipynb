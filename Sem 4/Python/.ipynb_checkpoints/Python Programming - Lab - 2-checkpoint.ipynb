{
 "cells": [
  {
   "cell_type": "markdown",
   "metadata": {},
   "source": [
    "\n",
    "<a href='https://www.darshan.ac.in/'> <img src='https://www.darshan.ac.in/Content/media/DU_Logo.svg' width=\"250\" height=\"300\"/></a>\n",
    "<pre>\n",
    "<center><b><h1>Python Programming - 2101CS405</b></center>\n",
    "<center><b><h1>Lab - 2</b></center>    \n",
    "<pre>"
   ]
  },
  {
   "cell_type": "markdown",
   "metadata": {},
   "source": [
    "# if..else.."
   ]
  },
  {
   "cell_type": "markdown",
   "metadata": {},
   "source": [
    "### 01) WAP to check whether the given number is positive or negative."
   ]
  },
  {
   "cell_type": "code",
   "execution_count": 2,
   "metadata": {},
   "outputs": [
    {
     "name": "stdout",
     "output_type": "stream",
     "text": [
      "Enter number : -45\n",
      "-ve\n"
     ]
    }
   ],
   "source": [
    "a = int(input(\"Enter number : \"))\n",
    "if a > 0:\n",
    "    print(\"+ve\")\n",
    "else:\n",
    "    print(\"-ve\")"
   ]
  },
  {
   "cell_type": "markdown",
   "metadata": {},
   "source": [
    "### 02) WAP to check whether the given number is odd or even"
   ]
  },
  {
   "cell_type": "code",
   "execution_count": 4,
   "metadata": {},
   "outputs": [
    {
     "name": "stdout",
     "output_type": "stream",
     "text": [
      "Enter number : 88\n",
      "Even\n"
     ]
    }
   ],
   "source": [
    "a = int(input(\"Enter number : \"))\n",
    "if a % 2 == 0:\n",
    "    print(\"Even\")\n",
    "else:\n",
    "    print(\"Odd\")"
   ]
  },
  {
   "cell_type": "markdown",
   "metadata": {},
   "source": [
    "### 03) WAP to find out largest number from given two numbers using simple if and ternary operator."
   ]
  },
  {
   "cell_type": "code",
   "execution_count": 8,
   "metadata": {},
   "outputs": [
    {
     "name": "stdout",
     "output_type": "stream",
     "text": [
      "Enter number 1 : 4\n",
      "Enter number 2 : 5\n",
      "5\n"
     ]
    }
   ],
   "source": [
    "a = int(input(\"Enter number 1 : \"))\n",
    "b = int(input(\"Enter number 2 : \"))\n",
    "if a > b:\n",
    "    print(f\"{a}\")\n",
    "else:\n",
    "    print(f\"{b}\")"
   ]
  },
  {
   "cell_type": "code",
   "execution_count": 9,
   "metadata": {},
   "outputs": [
    {
     "name": "stdout",
     "output_type": "stream",
     "text": [
      "Enter number 1 : 4\n",
      "Enter number 2 : 5\n",
      "5\n"
     ]
    }
   ],
   "source": [
    "a = int(input(\"Enter number 1 : \"))\n",
    "b = int(input(\"Enter number 2 : \"))\n",
    "print(f\"{a}\") if(a>b) else print(f\"{b}\")"
   ]
  },
  {
   "cell_type": "markdown",
   "metadata": {},
   "source": [
    "### 04) WAP to find out largest number from given three numbers."
   ]
  },
  {
   "cell_type": "code",
   "execution_count": 12,
   "metadata": {},
   "outputs": [
    {
     "name": "stdout",
     "output_type": "stream",
     "text": [
      "Enter number 1 : 4\n",
      "Enter number 2 : 6\n",
      "Enter number 3 : 5\n",
      "6\n"
     ]
    }
   ],
   "source": [
    "a = int(input(\"Enter number 1 : \"))\n",
    "b = int(input(\"Enter number 2 : \"))\n",
    "c = int(input(\"Enter number 3 : \"))\n",
    "if a > b:\n",
    "    if a > c:\n",
    "        print(f\"{a}\")\n",
    "    else:\n",
    "        print(f\"{c}\")\n",
    "else:\n",
    "    if b > c:\n",
    "        print(f\"{b}\")\n",
    "    else:\n",
    "        print(f\"{c}\")\n",
    "        "
   ]
  },
  {
   "cell_type": "markdown",
   "metadata": {},
   "source": [
    "### 05) WAP to check whether the given year is leap year or not.\n",
    "[If a year can be divisible by 4 but not divisible by 100 then it is leap year but if it is divisible by 400 then it is leap year]"
   ]
  },
  {
   "cell_type": "code",
   "execution_count": 14,
   "metadata": {},
   "outputs": [
    {
     "name": "stdout",
     "output_type": "stream",
     "text": [
      "Enter year : 2023\n",
      "Not leap year\n"
     ]
    }
   ],
   "source": [
    "year = int(input(\"Enter year : \"))\n",
    "if (year % 4 == 0 and year % 100 != 0) or year % 400 == 0:\n",
    "    print(\"leap year\")\n",
    "else:\n",
    "    print(\"Not leap year\")"
   ]
  },
  {
   "cell_type": "markdown",
   "metadata": {},
   "source": [
    "### 06) WAP in python to display the name of the day according to the number given by the user"
   ]
  },
  {
   "cell_type": "code",
   "execution_count": 15,
   "metadata": {},
   "outputs": [
    {
     "name": "stdout",
     "output_type": "stream",
     "text": [
      "Enter number of week : 5\n",
      "Friday\n"
     ]
    }
   ],
   "source": [
    "num = int(input(\"Enter number of week : \"))\n",
    "if num == 1:\n",
    "    print(\"Monday\")\n",
    "elif num == 2:\n",
    "    print(\"Tuesday\")\n",
    "elif num == 3:\n",
    "    print(\"Wednesday\")\n",
    "elif num == 4:\n",
    "    print(\"Thrusday\")\n",
    "elif num == 5:\n",
    "    print(\"Friday\")\n",
    "elif num == 6:\n",
    "    print(\"Saturday\")\n",
    "elif num == 7:\n",
    "    print(\"Sunday\")\n",
    "else:\n",
    "    print(\"Not correct number\")"
   ]
  },
  {
   "cell_type": "markdown",
   "metadata": {},
   "source": [
    "### 07) WAP to implement simple calculator which performs (add,sub,mul,div) of two no. based on user input."
   ]
  },
  {
   "cell_type": "code",
   "execution_count": 16,
   "metadata": {},
   "outputs": [
    {
     "name": "stdout",
     "output_type": "stream",
     "text": [
      "Enter number 1 : 4\n",
      "Enter number 2 : 5\n",
      "Enter operation +, -, *, / : +\n",
      "sum is : 9\n"
     ]
    }
   ],
   "source": [
    "a = int(input(\"Enter number 1 : \"))\n",
    "b = int(input(\"Enter number 2 : \"))\n",
    "sign = input(\"Enter operation +, -, *, / : \")\n",
    "if sign == '+':\n",
    "    print(f\"sum is : {a+b}\")\n",
    "elif sign == '-':\n",
    "    print(f\"sub is : {a-b}\")\n",
    "elif sign == '*':\n",
    "    print(f\"multi is : {a*b}\")\n",
    "elif sign == '/':\n",
    "    print(f\"div is : {a/b}\")\n",
    "else:\n",
    "    print(\"Not valid input\")\n",
    "    "
   ]
  },
  {
   "cell_type": "markdown",
   "metadata": {},
   "source": [
    "### 08) WAP to calculate electricity bill based on following criteria. Which takes the unit from the user.\n",
    "a. First 1 to 50 units – Rs. 2.60/unit</br>\n",
    "b. Next 50 to 100 units – Rs. 3.25/unit</br>\n",
    "c. Next 100 to 200 units – Rs. 5.26/unit</br>\n",
    "d. above 200 units – Rs. 8.45/unit"
   ]
  },
  {
   "cell_type": "code",
   "execution_count": 20,
   "metadata": {},
   "outputs": [
    {
     "name": "stdout",
     "output_type": "stream",
     "text": [
      "Enter unit : 341\n",
      "2009.9499999999998\n"
     ]
    }
   ],
   "source": [
    "unit = int(input(\"Enter unit : \"))\n",
    "bill = 0\n",
    "if unit >= 1 and unit <= 50:\n",
    "    bill = unit*2.60\n",
    "elif unit > 50 and unit <= 100:\n",
    "    bill = 50*2.60 + (unit-50)*3.25\n",
    "elif unit > 100 and unit <= 200:\n",
    "    bill = 50*2.60 + 50*3.25 + (unit-100)*5.26\n",
    "else:\n",
    "    bill = 50*2.60 + 50*3.25 + 100*5.26 + (unit-200)*8.45\n",
    "print(f\"{bill}\")"
   ]
  },
  {
   "cell_type": "markdown",
   "metadata": {},
   "source": [
    "### 01) WAP to read marks of five subjects. Calculate percentage and print class accordingly. \n",
    "Fail below 35 </br>\n",
    "Pass Class between 35 to 45 </br>\n",
    "Second Class</br>\n",
    "between 45 to 60</br>\n",
    "First Class between 60 to 70</br> \n",
    "Distinction if more than 70"
   ]
  },
  {
   "cell_type": "code",
   "execution_count": 24,
   "metadata": {},
   "outputs": [
    {
     "name": "stdout",
     "output_type": "stream",
     "text": [
      "Enter num 1 : 50\n",
      "Enter num 2 : 50\n",
      "Enter num 3 : 50\n",
      "Enter num 4 : 50\n",
      "Enter num 5 : 50\n",
      "Second class\n"
     ]
    }
   ],
   "source": [
    "a = int(input(\"Enter num 1 : \"))\n",
    "b = int(input(\"Enter num 2 : \"))\n",
    "c = int(input(\"Enter num 3 : \"))\n",
    "d = int(input(\"Enter num 4 : \"))\n",
    "e = int(input(\"Enter num 5 : \"))\n",
    "sum = a + b + c + d + e\n",
    "per = (sum/5)\n",
    "if (per < 35):\n",
    "    print(\"FAIL\")\n",
    "elif per >= 35 and per < 45:\n",
    "    print(\"Pass class\")\n",
    "elif per >= 45 and per < 60:\n",
    "    print(\"Second class\")\n",
    "elif per >= 60 and per > 70:\n",
    "    print(\"First\")\n",
    "elif per >= 70:\n",
    "    print(\"distinction\")\n",
    "else:\n",
    "    print(\"not valid\")"
   ]
  },
  {
   "cell_type": "markdown",
   "metadata": {},
   "source": [
    "### 02) WAP to find out the Maximum and Minimum number from given 4 numbers."
   ]
  },
  {
   "cell_type": "code",
   "execution_count": 27,
   "metadata": {},
   "outputs": [
    {
     "name": "stdout",
     "output_type": "stream",
     "text": [
      "Enter num 1 : 8\n",
      "Enter num 2 : 25\n",
      "Enter num 3 : 60\n",
      "Enter num 4 : 26\n",
      " largest is 60\n",
      " smallest is 8\n"
     ]
    }
   ],
   "source": [
    "a = int(input(\"Enter num 1 : \"))\n",
    "b = int(input(\"Enter num 2 : \"))\n",
    "c = int(input(\"Enter num 3 : \"))\n",
    "d = int(input(\"Enter num 4 : \"))\n",
    "\n",
    "if a > b and a > c and a > d:\n",
    "    print(f\" largest is {a}\")\n",
    "if b > a and b > c and b > d:\n",
    "    print(f\" largest is {b}\")\n",
    "if c > b and c > a and c > d:\n",
    "    print(f\" largest is {c}\")\n",
    "if d > b and d > c and d > a:\n",
    "    print(f\" largest is {d}\")\n",
    "    \n",
    "if a < b and a < c and a < d:\n",
    "    print(f\" smallest is {a}\")\n",
    "if b < a and b < c and b < d:\n",
    "    print(f\" smallest is {b}\")\n",
    "if c < b and c < a and c < d:\n",
    "    print(f\" smallest is {c}\")\n",
    "if d < b and d < c and d < a:\n",
    "    print(f\" smallest is {d}\")\n",
    "\n"
   ]
  },
  {
   "cell_type": "markdown",
   "metadata": {},
   "source": [
    "### 03) WAP to input an integer number and check the last digit of number is even or odd."
   ]
  },
  {
   "cell_type": "code",
   "execution_count": 29,
   "metadata": {},
   "outputs": [
    {
     "name": "stdout",
     "output_type": "stream",
     "text": [
      "Enter number : 66\n",
      "Even\n"
     ]
    }
   ],
   "source": [
    "num = int(input(\"Enter number : \"))\n",
    "\n",
    "num = num % 10\n",
    "\n",
    "if num % 2 == 0:\n",
    "    print(\"Even\")\n",
    "else :\n",
    "    print(\"Odd\")"
   ]
  },
  {
   "cell_type": "markdown",
   "metadata": {},
   "source": [
    "### 04) WAP to determine the roots of the equation ax2+bx+c=0."
   ]
  },
  {
   "cell_type": "code",
   "execution_count": 56,
   "metadata": {},
   "outputs": [
    {
     "name": "stdout",
     "output_type": "stream",
     "text": [
      "Enter coeff 1 : 1\n",
      "Enter coeff 2 : 1\n",
      "Enter constant : 2\n",
      "-7\n",
      "-0.5 + 1.3228756555322954 i\n",
      "-0.5 - 1.3228756555322954 i\n"
     ]
    }
   ],
   "source": [
    "a = int(input(\"Enter coeff 1 : \"))\n",
    "b = int(input(\"Enter coeff 2 : \"))\n",
    "c = int(input(\"Enter constant : \"))\n",
    "\n",
    "d = ((b*b) - (4*a*c))\n",
    "\n",
    "if d > 0:\n",
    "    ans = (-b + d**0.5)/(2*a)\n",
    "    print(ans)\n",
    "    ans = (-b - d**0.5)/(2*a)\n",
    "    print(ans)\n",
    "elif d == 0:\n",
    "    ans = (-b)/(2*a)\n",
    "    print(ans)\n",
    "else:\n",
    "    const = -b/(2*a)\n",
    "    img = ((d*-1)**0.5)/(2*a)\n",
    "    print(const ,\"+\", img, 'i')\n",
    "    print(const ,\"-\", img, 'i')"
   ]
  }
 ],
 "metadata": {
  "kernelspec": {
   "display_name": "Python 3 (ipykernel)",
   "language": "python",
   "name": "python3"
  },
  "language_info": {
   "codemirror_mode": {
    "name": "ipython",
    "version": 3
   },
   "file_extension": ".py",
   "mimetype": "text/x-python",
   "name": "python",
   "nbconvert_exporter": "python",
   "pygments_lexer": "ipython3",
   "version": "3.11.5"
  }
 },
 "nbformat": 4,
 "nbformat_minor": 4
}
